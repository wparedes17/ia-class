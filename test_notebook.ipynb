{
 "cells": [
  {
   "cell_type": "code",
   "execution_count": 1,
   "metadata": {},
   "outputs": [
    {
     "name": "stdout",
     "output_type": "stream",
     "text": [
      "Hello World!\n"
     ]
    }
   ],
   "source": [
    "import functions_to_call as ftc\n",
    "\n",
    "ftc.hello_function()"
   ]
  },
  {
   "cell_type": "code",
   "execution_count": 2,
   "metadata": {},
   "outputs": [],
   "source": [
    "# Definir diez documentos de texto simples como los de la clase:\n",
    "# 1. \"durante el camino hacia mucho viento\"\n",
    "# 2. \"la lluvia cae sobre mi rostro\"\n",
    "# 3. \"en la universidad hacia mucho viento\"\n",
    "# 4. \"siempre que camino hay viento\"\n",
    "# 5. \"no me gusta tu rostro con la lluvia\"\n",
    "# 6. \"el viento soplaba sobre el camino\"\n",
    "# 7. \"la lluvia de anoche estaba fuerte\"\n",
    "# 8. \"el camino desaparecio con el soplar del viento\"\n",
    "# 9. \"el viento sopla sobre la lluvia\"\n",
    "# 10. \"sentir la lluvia en tu rostro\"\n",
    "\n",
    "oraciones = [\n",
    "    \"durante el camino hacia mucho viento\",\n",
    "    \"la lluvia cae sobre mi rostro\",\n",
    "    \"en la universidad hacia mucho viento\",\n",
    "    \"siempre que camino hay viento\",\n",
    "    \"no me gusta tu rostro con la lluvia\",\n",
    "    \"el viento soplaba sobre el camino\",\n",
    "    \"la lluvia de anoche estaba fuerte\",\n",
    "    \"el camino desaparecio con el soplar del viento\",\n",
    "    \"el viento sopla sobre la lluvia\",\n",
    "    \"sentir la lluvia en tu rostro\"\n",
    "]\n"
   ]
  },
  {
   "cell_type": "code",
   "execution_count": 3,
   "metadata": {},
   "outputs": [
    {
     "name": "stdout",
     "output_type": "stream",
     "text": [
      "[1. 1. 1. 1. 1. 1. 0. 0. 0. 0. 0. 0. 0. 0. 0. 0. 0. 0. 0. 0. 0. 0. 0. 0.\n",
      " 0. 0. 0. 0. 0. 0. 0. 0.]\n"
     ]
    }
   ],
   "source": [
    "# Crear el vocabulario de las diez oraciones\n",
    "vocabulario = ftc.create_vocabulary(oraciones)\n",
    "\n",
    "# Crear el vector de la oración 1\n",
    "vector_oracion_1 = ftc.create_vectorized_document(oraciones[0], vocabulario)\n",
    "\n",
    "# Print the vectorized document\n",
    "print(vector_oracion_1)\n",
    "\n",
    "# Crear la matriz de documentos\n",
    "matriz_documentos = ftc.create_matrix_documents(oraciones, vocabulario)\n"
   ]
  },
  {
   "cell_type": "code",
   "execution_count": 4,
   "metadata": {},
   "outputs": [
    {
     "data": {
      "text/plain": [
       "{3: 0.31622776601683794,\n",
       " 0: 0.2886751345948129,\n",
       " 1: 0.2886751345948129,\n",
       " 6: 0.2886751345948129,\n",
       " 8: 0.2886751345948129,\n",
       " 9: 0.2886751345948129,\n",
       " 4: 0.24999999999999994,\n",
       " 5: 0.24999999999999994,\n",
       " 7: 0.22360679774997896,\n",
       " 2: 0.0}"
      ]
     },
     "execution_count": 4,
     "metadata": {},
     "output_type": "execute_result"
    }
   ],
   "source": [
    "# Probando las funciones con una query\n",
    "query = \"lluvia camino\"\n",
    "documentos_relevantes = ftc.calculate_similarity_for_query(query, matriz_documentos, vocabulario)\n",
    "# 1. \"durante el camino hacia mucho viento\"\n",
    "# 2. \"la lluvia cae sobre mi rostro\"\n",
    "# 3. \"en la universidad hacia mucho viento\"\n",
    "# 4. \"siempre que camino hay viento\"\n",
    "# 5. \"no me gusta tu rostro con la lluvia\"\n",
    "# 6. \"el viento soplaba sobre el camino\"\n",
    "# 7. \"la lluvia de anoche estaba fuerte\"\n",
    "# 8. \"el camino desaparecio con el soplar del viento\"\n",
    "# 9. \"el viento sopla sobre la lluvia\"\n",
    "# 10. \"sentir la lluvia en tu rostro\"\n",
    "\n",
    "documentos_relevantes"
   ]
  },
  {
   "cell_type": "code",
   "execution_count": 5,
   "metadata": {},
   "outputs": [
    {
     "data": {
      "text/plain": [
       "{1: 0.4082482904638631,\n",
       " 6: 0.4082482904638631,\n",
       " 8: 0.4082482904638631,\n",
       " 9: 0.4082482904638631,\n",
       " 4: 0.35355339059327373,\n",
       " 0: 0.0,\n",
       " 2: 0.0,\n",
       " 3: 0.0,\n",
       " 5: 0.0,\n",
       " 7: 0.0}"
      ]
     },
     "execution_count": 5,
     "metadata": {},
     "output_type": "execute_result"
    }
   ],
   "source": [
    "# Probando las funciones con una query\n",
    "query = \"lluvia\"\n",
    "documentos_relevantes = ftc.calculate_similarity_for_query(query, matriz_documentos, vocabulario)\n",
    "# 1. \"durante el camino hacia mucho viento\"\n",
    "# 2. \"la lluvia cae sobre mi rostro\"\n",
    "# 3. \"en la universidad hacia mucho viento\"\n",
    "# 4. \"siempre que camino hay viento\"\n",
    "# 5. \"no me gusta tu rostro con la lluvia\"\n",
    "# 6. \"el viento soplaba sobre el camino\"\n",
    "# 7. \"la lluvia de anoche estaba fuerte\"\n",
    "# 8. \"el camino desaparecio con el soplar del viento\"\n",
    "# 9. \"el viento sopla sobre la lluvia\"\n",
    "# 10. \"sentir la lluvia en tu rostro\"\n",
    "\n",
    "documentos_relevantes"
   ]
  },
  {
   "cell_type": "code",
   "execution_count": 8,
   "metadata": {},
   "outputs": [
    {
     "data": {
      "text/plain": [
       "{8: 0.5773502691896258,\n",
       " 5: 0.4999999999999999,\n",
       " 7: 0.4472135954999579,\n",
       " 0: 0.2886751345948129,\n",
       " 1: 0.2886751345948129,\n",
       " 6: 0.2886751345948129,\n",
       " 9: 0.2886751345948129,\n",
       " 4: 0.24999999999999994,\n",
       " 2: 0.0,\n",
       " 3: 0.0}"
      ]
     },
     "execution_count": 8,
     "metadata": {},
     "output_type": "execute_result"
    }
   ],
   "source": [
    "# Probando las funciones con una query\n",
    "query = \"el lluvia\"\n",
    "documentos_relevantes = ftc.calculate_similarity_for_query(query, matriz_documentos, vocabulario)\n",
    "# 1. \"durante el camino hacia mucho viento\"\n",
    "# 2. \"la lluvia cae sobre mi rostro\"\n",
    "# 3. \"en la universidad hacia mucho viento\"\n",
    "# 4. \"siempre que camino hay viento\"\n",
    "# 5. \"no me gusta tu rostro con la lluvia\"\n",
    "# 6. \"el viento soplaba sobre el camino\"\n",
    "# 7. \"la lluvia de anoche estaba fuerte\"\n",
    "# 8. \"el camino desaparecio con el soplar del viento\"\n",
    "# 9. \"el viento sopla sobre la lluvia\"\n",
    "# 10. \"sentir la lluvia en tu rostro\"\n",
    "\n",
    "documentos_relevantes"
   ]
  }
 ],
 "metadata": {
  "kernelspec": {
   "display_name": "ia-class",
   "language": "python",
   "name": "python3"
  },
  "language_info": {
   "codemirror_mode": {
    "name": "ipython",
    "version": 3
   },
   "file_extension": ".py",
   "mimetype": "text/x-python",
   "name": "python",
   "nbconvert_exporter": "python",
   "pygments_lexer": "ipython3",
   "version": "3.11.1"
  },
  "orig_nbformat": 4,
  "vscode": {
   "interpreter": {
    "hash": "10c4a0e9488eb07b267c378b9912e9353ff846573f5ea9617ba26eb78fd12184"
   }
  }
 },
 "nbformat": 4,
 "nbformat_minor": 2
}
